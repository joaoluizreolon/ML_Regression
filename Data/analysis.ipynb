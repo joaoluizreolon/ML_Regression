{
 "cells": [
  {
   "cell_type": "code",
   "execution_count": 21,
   "metadata": {},
   "outputs": [],
   "source": [
    "# import kruskal\n",
    "\n",
    "from scipy.stats import kruskal, mannwhitneyu\n",
    "import pandas as pd\n",
    "\n",
    "alpha = 0.05"
   ]
  },
  {
   "cell_type": "code",
   "execution_count": 20,
   "metadata": {},
   "outputs": [],
   "source": [
    "# make a function that executes the Mann-Whitney U test for all pairs of models\n",
    "def mannwhitneyu_test(df, model_columns, alpha):\n",
    "    print(\"Mann-Whitney U test statistic\")\n",
    "    for i in range(len(model_columns)):\n",
    "        for j in range(i + 1, len(model_columns)):\n",
    "            u_stat, p_value = mannwhitneyu(\n",
    "                df[model_columns[i]], df[model_columns[j]], alternative=\"two-sided\"\n",
    "            )\n",
    "            print(\"===========================================\")\n",
    "            print(\n",
    "                model_columns[i],\n",
    "                \"and\",\n",
    "                model_columns[j],\n",
    "                \":\",\n",
    "                u_stat,\n",
    "            )\n",
    "            print(\"P-value:\", p_value)\n",
    "            if p_value < alpha:\n",
    "                print(\n",
    "                    \"REJECT the null hypothesis: There are significant differences between the groups.\"\n",
    "                )\n",
    "            else:\n",
    "                print(\n",
    "                    \"FAIL TO REJECT the null hypothesis: There are NO significant differences between the groups.\"\n",
    "                )"
   ]
  },
  {
   "cell_type": "markdown",
   "metadata": {},
   "source": [
    "# Análise de classificadores monolíticos"
   ]
  },
  {
   "cell_type": "code",
   "execution_count": 22,
   "metadata": {},
   "outputs": [
    {
     "name": "stdout",
     "output_type": "stream",
     "text": [
      "Kruskal-Wallis H-test statistic: 85.4147258916777\n",
      "P-value: 1.2387467851629486e-17\n",
      "Reject the null hypothesis: There are significant differences between the groups.\n",
      "\n",
      "Mann-Whitney U test statistic\n",
      "===========================================\n",
      "KNN and DT : 31.5\n",
      "P-value: 5.3654307386196095e-06\n",
      "REJECT the null hypothesis: There are significant differences between the groups.\n",
      "===========================================\n",
      "KNN and NB : 400.0\n",
      "P-value: 6.719330765889552e-08\n",
      "REJECT the null hypothesis: There are significant differences between the groups.\n",
      "===========================================\n",
      "KNN and SVM : 0.0\n",
      "P-value: 6.681468439048667e-08\n",
      "REJECT the null hypothesis: There are significant differences between the groups.\n",
      "===========================================\n",
      "KNN and MLP : 60.5\n",
      "P-value: 0.0001632113773261972\n",
      "REJECT the null hypothesis: There are significant differences between the groups.\n",
      "===========================================\n",
      "DT and NB : 400.0\n",
      "P-value: 6.6720318790895e-08\n",
      "REJECT the null hypothesis: There are significant differences between the groups.\n",
      "===========================================\n",
      "DT and SVM : 3.0\n",
      "P-value: 1.0357590984058813e-07\n",
      "REJECT the null hypothesis: There are significant differences between the groups.\n",
      "===========================================\n",
      "DT and MLP : 280.0\n",
      "P-value: 0.03112728923093938\n",
      "REJECT the null hypothesis: There are significant differences between the groups.\n",
      "===========================================\n",
      "NB and SVM : 0.0\n",
      "P-value: 6.700376361164955e-08\n",
      "REJECT the null hypothesis: There are significant differences between the groups.\n",
      "===========================================\n",
      "NB and MLP : 0.0\n",
      "P-value: 6.52261436867194e-08\n",
      "REJECT the null hypothesis: There are significant differences between the groups.\n",
      "===========================================\n",
      "SVM and MLP : 400.0\n",
      "P-value: 6.485717688685576e-08\n",
      "REJECT the null hypothesis: There are significant differences between the groups.\n"
     ]
    }
   ],
   "source": [
    "# Read the data from output.csv\n",
    "output_df = pd.read_csv(\"output.csv\")\n",
    "\n",
    "# Extract the columns\n",
    "knn = output_df[\"KNN\"]\n",
    "dt = output_df[\"DT\"]\n",
    "nb = output_df[\"NB\"]\n",
    "svm = output_df[\"SVM\"]\n",
    "mlp = output_df[\"MLP\"]\n",
    "\n",
    "mv = output_df[\"MV\"]\n",
    "sv = output_df[\"SV\"]\n",
    "bc = output_df[\"BC\"]\n",
    "\n",
    "# Apply the Kruskal-Wallis H-test\n",
    "h_stat, p_value = kruskal(knn, dt, nb, svm, mlp)\n",
    "\n",
    "print(\"Kruskal-Wallis H-test statistic:\", h_stat)\n",
    "print(\"P-value:\", p_value)\n",
    "\n",
    "# Interpretation\n",
    "if p_value < alpha:\n",
    "    print(\n",
    "        \"Reject the null hypothesis: There are significant differences between the groups.\\n\"\n",
    "    )\n",
    "    # call mannwhitneyu_test\n",
    "    model_columns = [\"KNN\", \"DT\", \"NB\", \"SVM\", \"MLP\"]\n",
    "    mannwhitneyu_test(output_df, model_columns, alpha)\n",
    "\n",
    "else:\n",
    "    print(\n",
    "        \"Fail to reject the null hypothesis: There are no significant differences between the groups.\"\n",
    "    )"
   ]
  },
  {
   "cell_type": "markdown",
   "metadata": {},
   "source": [
    "# Análise de classificadores compostos"
   ]
  },
  {
   "cell_type": "code",
   "execution_count": 23,
   "metadata": {},
   "outputs": [
    {
     "name": "stdout",
     "output_type": "stream",
     "text": [
      "Kruskal-Wallis H-test statistic: 39.68786513102988\n",
      "P-value: 2.4092928264429973e-09\n",
      "Reject the null hypothesis: There are significant differences between the groups.\n",
      "\n",
      "Mann-Whitney U test statistic\n",
      "===========================================\n",
      "MV and SV : 230.0\n",
      "P-value: 0.4241435800592843\n",
      "FAIL TO REJECT the null hypothesis: There are NO significant differences between the groups.\n",
      "===========================================\n",
      "MV and BC : 400.0\n",
      "P-value: 6.625022613183119e-08\n",
      "REJECT the null hypothesis: There are significant differences between the groups.\n",
      "===========================================\n",
      "SV and BC : 400.0\n",
      "P-value: 6.59695545231667e-08\n",
      "REJECT the null hypothesis: There are significant differences between the groups.\n"
     ]
    }
   ],
   "source": [
    "# Read the data from output.csv\n",
    "output_df = pd.read_csv(\"output.csv\")\n",
    "\n",
    "mv = output_df[\"MV\"]\n",
    "sv = output_df[\"SV\"]\n",
    "bc = output_df[\"BC\"]\n",
    "\n",
    "# Apply the Kruskal-Wallis H-test\n",
    "h_stat, p_value = kruskal(mv, sv, bc)\n",
    "\n",
    "print(\"Kruskal-Wallis H-test statistic:\", h_stat)\n",
    "print(\"P-value:\", p_value)\n",
    "\n",
    "# Interpretation\n",
    "if p_value < alpha:\n",
    "    print(\n",
    "        \"Reject the null hypothesis: There are significant differences between the groups.\\n\"\n",
    "    )\n",
    "    # call mannwhitneyu_test\n",
    "    model_columns = [\"MV\", \"SV\", \"BC\"]\n",
    "    mannwhitneyu_test(output_df, model_columns, alpha)\n",
    "\n",
    "else:\n",
    "    print(\n",
    "        \"Fail to reject the null hypothesis: There are no significant differences between the groups.\"\n",
    "    )"
   ]
  }
 ],
 "metadata": {
  "kernelspec": {
   "display_name": "Python 3",
   "language": "python",
   "name": "python3"
  },
  "language_info": {
   "codemirror_mode": {
    "name": "ipython",
    "version": 3
   },
   "file_extension": ".py",
   "mimetype": "text/x-python",
   "name": "python",
   "nbconvert_exporter": "python",
   "pygments_lexer": "ipython3",
   "version": "3.10.12"
  }
 },
 "nbformat": 4,
 "nbformat_minor": 2
}
