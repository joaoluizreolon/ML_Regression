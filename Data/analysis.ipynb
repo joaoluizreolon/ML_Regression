{
 "cells": [
  {
   "cell_type": "code",
   "execution_count": null,
   "metadata": {},
   "outputs": [],
   "source": [
    "# import kruskal\n",
    "\n",
    "from scipy.stats import kruskal, mannwhitneyu\n",
    "import pandas as pd\n",
    "\n",
    "alpha = 0.05"
   ]
  },
  {
   "cell_type": "code",
   "execution_count": null,
   "metadata": {},
   "outputs": [],
   "source": [
    "# make a function that executes the Mann-Whitney U test for all pairs of models\n",
    "def mannwhitneyu_test(df, model_columns, alpha):\n",
    "    print(\"Mann-Whitney U test statistic\")\n",
    "    for i in range(len(model_columns)):\n",
    "        for j in range(i + 1, len(model_columns)):\n",
    "            u_stat, p_value = mannwhitneyu(\n",
    "                df[model_columns[i]], df[model_columns[j]], alternative=\"two-sided\"\n",
    "            )\n",
    "            print(\"===========================================\")\n",
    "            print(\n",
    "                model_columns[i],\n",
    "                \"and\",\n",
    "                model_columns[j],\n",
    "                \":\",\n",
    "                u_stat,\n",
    "            )\n",
    "            print(\"P-value:\", p_value)\n",
    "            if p_value < alpha:\n",
    "                print(\n",
    "                    \"REJECT the null hypothesis: There are significant differences between the groups.\"\n",
    "                )\n",
    "            else:\n",
    "                print(\n",
    "                    \"FAIL TO REJECT the null hypothesis: There are NO significant differences between the groups.\"\n",
    "                )"
   ]
  },
  {
   "cell_type": "markdown",
   "metadata": {},
   "source": [
    "# Análise dos Regressores"
   ]
  },
  {
   "cell_type": "code",
   "execution_count": null,
   "metadata": {},
   "outputs": [],
   "source": [
    "# Read the data from output.csv\n",
    "output_df = pd.read_csv(\"output.csv\")\n",
    "\n",
    "# Extract the columns\n",
    "knr = output_df[\"KNR\"]\n",
    "svr = output_df[\"SVR\"]\n",
    "mlp = output_df[\"MLP\"]\n",
    "rf = output_df[\"RF\"]\n",
    "gb = output_df[\"GB\"]\n",
    "mlr = output_df[\"MLR\"]\n",
    "\n",
    "\n",
    "# Apply the Kruskal-Wallis H-test\n",
    "h_stat, p_value = kruskal(knr, svr, mlp, rf, gb, mlr)\n",
    "\n",
    "print(\"Kruskal-Wallis H-test statistic:\", h_stat)\n",
    "print(\"P-value:\", p_value)\n",
    "\n",
    "# Interpretation\n",
    "if p_value < alpha:\n",
    "    print(\n",
    "        \"Reject the null hypothesis: There are significant differences between the groups.\\n\"\n",
    "    )\n",
    "    # call mannwhitneyu_test\n",
    "    model_columns = [\"KNR\", \"SVR\", \"MLP\", \"RF\", \"GB\", \"MLR\"]\n",
    "    mannwhitneyu_test(output_df, model_columns, alpha)\n",
    "\n",
    "else:\n",
    "    print(\n",
    "        \"Fail to reject the null hypothesis: There are no significant differences between the groups.\"\n",
    "    )"
   ]
  }
 ],
 "metadata": {
  "kernelspec": {
   "display_name": "Python 3",
   "language": "python",
   "name": "python3"
  },
  "language_info": {
   "codemirror_mode": {
    "name": "ipython",
    "version": 3
   },
   "file_extension": ".py",
   "mimetype": "text/x-python",
   "name": "python",
   "nbconvert_exporter": "python",
   "pygments_lexer": "ipython3",
   "version": "3.10.12"
  }
 },
 "nbformat": 4,
 "nbformat_minor": 2
}
